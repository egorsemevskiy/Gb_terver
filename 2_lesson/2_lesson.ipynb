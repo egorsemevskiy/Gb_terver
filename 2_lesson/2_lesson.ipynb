{
 "cells": [
  {
   "cell_type": "code",
   "execution_count": 9,
   "metadata": {},
   "outputs": [],
   "source": [
    "import numpy as np"
   ]
  },
  {
   "cell_type": "markdown",
   "metadata": {},
   "source": [
    "# Задача 1"
   ]
  },
  {
   "cell_type": "markdown",
   "metadata": {},
   "source": [
    "Контрольная работа состоит из пяти вопросов. На каждый вопрос приведено четыре варианта ответа, один из которых правильный. Составьте закон распределения числа правильных ответов при простом угадывании. Найдите M(X), D(X).ipynb_checkpoints/"
   ]
  },
  {
   "cell_type": "markdown",
   "metadata": {},
   "source": [
    "Применяем схему Бернулли, с учетом того, что вероятность успешного ответа 1/4\n",
    "Строим распределение\n",
    "\n",
    "Количество вопросов(n) = 5, вариантов ответа 4"
   ]
  },
  {
   "cell_type": "markdown",
   "metadata": {},
   "source": [
    "$P(X=0)$: $C_{5}^{0}*0.25^0*0.75^5 = 0.2373$<br>\n",
    "$P(X=1)$: $C_{5}^{1}*0.25^1*0.75^4 = 0.3955$<br>\n",
    "$P(X=2)$: $C_{5}^{2}*0.25^2*0.75^3 = 0.2637$<br>\n",
    "$P(X=3)$: $C_{5}^{3}*0.25^3*0.75^2 = 0.0879$<br>\n",
    "$P(X=4)$: $C_{5}^{4}*0.25^4*0.75^1 = 0.0146$<br>\n",
    "$P(X=5)$: $C_{5}^{5}*0.25^5*0.75^0 = 0.0010$<br>"
   ]
  },
  {
   "cell_type": "markdown",
   "metadata": {},
   "source": [
    "Получаем математическое ожидание и дисперсию "
   ]
  },
  {
   "cell_type": "code",
   "execution_count": 13,
   "metadata": {},
   "outputs": [],
   "source": [
    "v = np.array([0.2373, 0.3955, 0.2635, 0.0879, 0.0146, 0.0010])\n",
    "x = np.array([0, 1, 2 ,3 ,4 ,5 ])\n"
   ]
  },
  {
   "cell_type": "code",
   "execution_count": 15,
   "metadata": {},
   "outputs": [
    {
     "data": {
      "text/plain": [
       "1.2496"
      ]
     },
     "execution_count": 15,
     "metadata": {},
     "output_type": "execute_result"
    }
   ],
   "source": [
    "M = (v*x).sum()\n",
    "M"
   ]
  },
  {
   "cell_type": "markdown",
   "metadata": {},
   "source": [
    "D(X)=M(X^2)-(M(X))^2"
   ]
  },
  {
   "cell_type": "code",
   "execution_count": 21,
   "metadata": {},
   "outputs": [
    {
     "data": {
      "text/plain": [
       "0.9376998400000001"
      ]
     },
     "execution_count": 21,
     "metadata": {},
     "output_type": "execute_result"
    }
   ],
   "source": [
    "M1 = M\n",
    "M2 = ((x**2)*(v)).sum()\n",
    "D = M2 - (M1**2)\n",
    "D"
   ]
  },
  {
   "cell_type": "markdown",
   "metadata": {},
   "source": [
    "\n",
    "# Задача 2\n",
    "\n",
    "Пользователь получает в среднем 10 писем со спамом на свой почтовый ящик за сутки. Найти число N, такое, что с вероятностью 0.95 пользователь получит не более N писем со спамом за текущий день.\n"
   ]
  },
  {
   "cell_type": "markdown",
   "metadata": {},
   "source": [
    "Имеем распределение Пуассона с λ=10"
   ]
  },
  {
   "cell_type": "markdown",
   "metadata": {},
   "source": [
    "Решается питоном через встроенную функцию распределения "
   ]
  },
  {
   "cell_type": "code",
   "execution_count": 29,
   "metadata": {},
   "outputs": [
    {
     "data": {
      "text/plain": [
       "15.0"
      ]
     },
     "execution_count": 29,
     "metadata": {},
     "output_type": "execute_result"
    }
   ],
   "source": [
    "from scipy.stats import poisson, binom\n",
    "\n",
    "poisson.ppf(0.95, 10)\n"
   ]
  },
  {
   "cell_type": "markdown",
   "metadata": {},
   "source": [
    "Получаем N = 15"
   ]
  },
  {
   "cell_type": "markdown",
   "metadata": {},
   "source": [
    "# Задача 3\n",
    "\n",
    "Производятся выстрелы по мишени. Вероятность попадания в мишень при одном выстреле равна 0.01. Сколько выстрелов нужно сделать чтобы быть уверенным с вероятностью 0.9, что хотя бы 6 раз будет совершено попадание?"
   ]
  },
  {
   "cell_type": "markdown",
   "metadata": {},
   "source": [
    "Тут применима формула испытаний Бернулли с вероятностью успеха $p=0.01$. Нужно найти сколько выстрелов нужно сделать, что бы с вероятностью 0.9 быть уверенным, что будет совершено 6 попаданий. $P(X \\geqslant 6) = 0.9$, где $X$- кол-во успехов (попаданий) в $n$ испытаниях Бернулли. Необходимо найти $min(N)$"
   ]
  },
  {
   "cell_type": "code",
   "execution_count": 30,
   "metadata": {},
   "outputs": [
    {
     "data": {
      "text/plain": [
       "217"
      ]
     },
     "execution_count": 30,
     "metadata": {},
     "output_type": "execute_result"
    }
   ],
   "source": [
    "res = 0\n",
    "p = 0.01\n",
    "n = 6\n",
    "while res < 0.9:\n",
    "    r = 0\n",
    "    for i in range(6):\n",
    "        r += binom.pmf(i, n, p)\n",
    "    res += 1 - r\n",
    "    n += 1\n",
    "n - 1\n"
   ]
  },
  {
   "cell_type": "markdown",
   "metadata": {},
   "source": [
    "Итого, нужно сделать 217 выстрелов "
   ]
  }
 ],
 "metadata": {
  "kernelspec": {
   "display_name": "Python 3",
   "language": "python",
   "name": "python3"
  },
  "language_info": {
   "codemirror_mode": {
    "name": "ipython",
    "version": 3
   },
   "file_extension": ".py",
   "mimetype": "text/x-python",
   "name": "python",
   "nbconvert_exporter": "python",
   "pygments_lexer": "ipython3",
   "version": "3.8.2"
  }
 },
 "nbformat": 4,
 "nbformat_minor": 4
}
