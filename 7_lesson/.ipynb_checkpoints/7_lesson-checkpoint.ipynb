{
 "cells": [
  {
   "cell_type": "code",
   "execution_count": 1,
   "metadata": {},
   "outputs": [],
   "source": [
    "import numpy as np"
   ]
  },
  {
   "cell_type": "markdown",
   "metadata": {},
   "source": [
    "# Урок 7\n",
    "\n",
    "Линейная регрессия. Однофакторный дисперсионный анализ\n"
   ]
  },
  {
   "cell_type": "markdown",
   "metadata": {},
   "source": [
    "## Задача 1\n",
    "\n",
    "Даны значения величины заработной платы заемщиков банка (salary) и значения их поведенческого кредитного скоринга (scoring):\n",
    "\n",
    "salary = [35, 45, 190, 200, 40, 70, 54, 150, 120, 110]\n",
    "scoring = [401, 574, 874, 919, 459, 739, 653, 902, 746, 832]\n",
    "\n",
    "Возьмём в качестве признака значение salary, а в качестве целевой переменной - scoring.\n",
    "\n",
    "    Найдите коэффициенты линейной регрессии с помощью формул для парной регрессии, а затем с помощью метода наименьших квадратов.\n",
    "    Постройте scatter plot по данным и отметьте на нём прямую линейной регрессии, полученную в п. 1.\n",
    "    Посчитайте коэффициент детерминации, среднюю ошибку аппроксимации.\n",
    "    Оцените построенное уравнение регрессии с помощью F-критерия Фишера.\n",
    "    Постройте для коэффициентов регрессии доверительные интервалы с помощью t-статистики Стьюдента.\n"
   ]
  },
  {
   "cell_type": "markdown",
   "metadata": {},
   "source": [
    "Берем за х salary, за y scoring"
   ]
  },
  {
   "cell_type": "code",
   "execution_count": 2,
   "metadata": {},
   "outputs": [],
   "source": [
    "x = np.array([35, 45, 190, 200, 40, 70, 54, 150, 120, 110])\n",
    "y = np.array([401, 574, 874, 919, 459, 739, 653, 902, 746, 832])"
   ]
  },
  {
   "cell_type": "markdown",
   "metadata": {},
   "source": [
    "Формула линейной регрессии \n",
    "$$y = b_0 + b_1X$$"
   ]
  },
  {
   "cell_type": "markdown",
   "metadata": {},
   "source": [
    "Коэффицент $b_1$ линейной регресси находяться по формуле\n",
    "\n",
    "$$b_1=\\frac{\\bar{yx}-\\bar{y}\\cdot\\bar{x}}{\\bar{x^2}-(\\bar{x})^2}$$ или \n",
    "$$b_1 = \\frac{\\sum(y_i - \\bar{y})(x_i - \\bar{x})}{\\sum(x_i - \\bar{x})^2}$$"
   ]
  },
  {
   "cell_type": "code",
   "execution_count": 3,
   "metadata": {},
   "outputs": [],
   "source": [
    "x_mean = x.mean()\n",
    "y_mean = y.mean()"
   ]
  },
  {
   "cell_type": "code",
   "execution_count": 4,
   "metadata": {},
   "outputs": [],
   "source": [
    "def b1(x: np.array, y: np.array, x_mean: float, y_mean:float)-> float:\n",
    "    top = sum([(yi - y_mean)*(xi - x_mean) for xi, yi in np.array(list(zip(x,y)))])\n",
    "    bottom = sum([pow(xi - x_mean,2 ) for xi in x])\n",
    "    return top/bottom"
   ]
  },
  {
   "cell_type": "code",
   "execution_count": 5,
   "metadata": {},
   "outputs": [
    {
     "data": {
      "text/plain": [
       "2.620538882402765"
      ]
     },
     "execution_count": 5,
     "metadata": {},
     "output_type": "execute_result"
    }
   ],
   "source": [
    "b_1 = b1(x, y, x_mean, y_mean)\n",
    "b_1"
   ]
  },
  {
   "cell_type": "markdown",
   "metadata": {},
   "source": [
    "Полчаем $$b_1 = 2.620538882402765$$"
   ]
  },
  {
   "cell_type": "markdown",
   "metadata": {},
   "source": [
    "Формула для $b_0$\n",
    "$$b_o = \\bar{y} - b_1\\bar{x}$$"
   ]
  },
  {
   "cell_type": "markdown",
   "metadata": {},
   "source": [
    "Функция"
   ]
  },
  {
   "cell_type": "code",
   "execution_count": 6,
   "metadata": {},
   "outputs": [],
   "source": [
    "def b0(x_mean: float, y_mean: float, b1: float) -> float :\n",
    "    return y_mean - b1*x_mean"
   ]
  },
  {
   "cell_type": "code",
   "execution_count": 7,
   "metadata": {},
   "outputs": [
    {
     "data": {
      "text/plain": [
       "444.1773573243596"
      ]
     },
     "execution_count": 7,
     "metadata": {},
     "output_type": "execute_result"
    }
   ],
   "source": [
    "b_0 = b0(x_mean, y_mean, b_1)\n",
    "b_0"
   ]
  },
  {
   "cell_type": "markdown",
   "metadata": {},
   "source": [
    "Получаем $$b_0 = 444.1773573243596 $$"
   ]
  },
  {
   "cell_type": "markdown",
   "metadata": {},
   "source": [
    "Проверка с помощью numpy"
   ]
  },
  {
   "cell_type": "code",
   "execution_count": 8,
   "metadata": {},
   "outputs": [
    {
     "data": {
      "text/plain": [
       "(444.1773573243596, 2.620538882402765)"
      ]
     },
     "execution_count": 8,
     "metadata": {},
     "output_type": "execute_result"
    }
   ],
   "source": [
    "b = (np.mean(x * y) - np.mean(x) * np.mean(y)) / (np.mean(x**2) - np.mean(x) ** 2)\n",
    "a = np.mean(y) - b * np.mean(x)\n",
    "a, b"
   ]
  },
  {
   "cell_type": "markdown",
   "metadata": {},
   "source": [
    "Наша регрессия имеет вид\n",
    "$$ y = 444.18 + 2.62x_1$$"
   ]
  },
  {
   "cell_type": "markdown",
   "metadata": {},
   "source": [
    "Расчитаем коэффицент корреляции по формуле"
   ]
  },
  {
   "cell_type": "markdown",
   "metadata": {},
   "source": [
    "$$r_{xy} = \\frac{\\sum\\limits_{i=1}^{n} (x_i - \\overline{x})(y_i - \\overline{y})} {\\sqrt{\\sum\\limits_{i=1}^{n} (x_i - \\overline{x})^2 \\cdot {\\sum\\limits_{i=1}^{n} (y_i - \\overline{y})^2}}} = b \\cdot {\\frac{\\sigma_x}{\\sigma_y}}$$"
   ]
  },
  {
   "cell_type": "markdown",
   "metadata": {},
   "source": [
    "Найдем коэффициент корреляции $r$ с помощью коэффициента $b$ и средних квадратического отклонения, посчитанного для массивов $x$ и $y$:"
   ]
  },
  {
   "cell_type": "code",
   "execution_count": 9,
   "metadata": {},
   "outputs": [
    {
     "data": {
      "text/plain": [
       "0.8874900920739162"
      ]
     },
     "execution_count": 9,
     "metadata": {},
     "output_type": "execute_result"
    }
   ],
   "source": [
    "r = b_1 * np.std(x) / np.std(y)\n",
    "r"
   ]
  },
  {
   "cell_type": "markdown",
   "metadata": {},
   "source": [
    "Найдем коэффициент детерминации $R^2$:"
   ]
  },
  {
   "cell_type": "code",
   "execution_count": 10,
   "metadata": {},
   "outputs": [
    {
     "data": {
      "text/plain": [
       "0.7876386635293682"
      ]
     },
     "execution_count": 10,
     "metadata": {},
     "output_type": "execute_result"
    }
   ],
   "source": [
    "R2 = r**2\n",
    "R2"
   ]
  },
  {
   "cell_type": "markdown",
   "metadata": {},
   "source": [
    "#### Это означет, что 79% вариации $y$ обьясняется вариаций фактора $x$"
   ]
  },
  {
   "cell_type": "markdown",
   "metadata": {},
   "source": [
    "### Найдем коэффиценты линейной регрессии методом наименьших квадратов по формуле"
   ]
  },
  {
   "cell_type": "markdown",
   "metadata": {},
   "source": [
    "Формула\n",
    "$$\\begin{cases}\n",
    "nb_0 + a_1\\sum\\limits_{i=1}^{n} x_i = \\sum\\limits_{i=1}^n y_i\\\\\n",
    "b_0\\sum\\limits_{i=1}^n x_i + b_1 \\sum\\limits_{i=1}^n x^2_i = \\sum\\limits_{i=1}^n x_i y_i\n",
    "\\end{cases}$$"
   ]
  },
  {
   "cell_type": "markdown",
   "metadata": {},
   "source": [
    "Подготовим данные для расчетов, создав датасет в pandas"
   ]
  },
  {
   "cell_type": "code",
   "execution_count": 11,
   "metadata": {},
   "outputs": [],
   "source": [
    "import pandas as pd"
   ]
  },
  {
   "cell_type": "code",
   "execution_count": 12,
   "metadata": {},
   "outputs": [],
   "source": [
    "d = {'num': np.arange(1, len(x) + 1), \n",
    "     'x': x, \n",
    "     'y': y, \n",
    "     'x_sq' :np.square(x) ,\n",
    "     'y_sq' :np.square(y) ,\n",
    "     'xy' : x*y\n",
    "    }"
   ]
  },
  {
   "cell_type": "code",
   "execution_count": 13,
   "metadata": {},
   "outputs": [],
   "source": [
    "df = pd.DataFrame(d)"
   ]
  },
  {
   "cell_type": "code",
   "execution_count": 14,
   "metadata": {},
   "outputs": [
    {
     "data": {
      "text/html": [
       "<div>\n",
       "<style scoped>\n",
       "    .dataframe tbody tr th:only-of-type {\n",
       "        vertical-align: middle;\n",
       "    }\n",
       "\n",
       "    .dataframe tbody tr th {\n",
       "        vertical-align: top;\n",
       "    }\n",
       "\n",
       "    .dataframe thead th {\n",
       "        text-align: right;\n",
       "    }\n",
       "</style>\n",
       "<table border=\"1\" class=\"dataframe\">\n",
       "  <thead>\n",
       "    <tr style=\"text-align: right;\">\n",
       "      <th></th>\n",
       "      <th>num</th>\n",
       "      <th>x</th>\n",
       "      <th>y</th>\n",
       "      <th>x_sq</th>\n",
       "      <th>y_sq</th>\n",
       "      <th>xy</th>\n",
       "    </tr>\n",
       "  </thead>\n",
       "  <tbody>\n",
       "    <tr>\n",
       "      <th>0</th>\n",
       "      <td>1</td>\n",
       "      <td>35</td>\n",
       "      <td>401</td>\n",
       "      <td>1225</td>\n",
       "      <td>160801</td>\n",
       "      <td>14035</td>\n",
       "    </tr>\n",
       "    <tr>\n",
       "      <th>1</th>\n",
       "      <td>2</td>\n",
       "      <td>45</td>\n",
       "      <td>574</td>\n",
       "      <td>2025</td>\n",
       "      <td>329476</td>\n",
       "      <td>25830</td>\n",
       "    </tr>\n",
       "    <tr>\n",
       "      <th>2</th>\n",
       "      <td>3</td>\n",
       "      <td>190</td>\n",
       "      <td>874</td>\n",
       "      <td>36100</td>\n",
       "      <td>763876</td>\n",
       "      <td>166060</td>\n",
       "    </tr>\n",
       "    <tr>\n",
       "      <th>3</th>\n",
       "      <td>4</td>\n",
       "      <td>200</td>\n",
       "      <td>919</td>\n",
       "      <td>40000</td>\n",
       "      <td>844561</td>\n",
       "      <td>183800</td>\n",
       "    </tr>\n",
       "    <tr>\n",
       "      <th>4</th>\n",
       "      <td>5</td>\n",
       "      <td>40</td>\n",
       "      <td>459</td>\n",
       "      <td>1600</td>\n",
       "      <td>210681</td>\n",
       "      <td>18360</td>\n",
       "    </tr>\n",
       "    <tr>\n",
       "      <th>5</th>\n",
       "      <td>6</td>\n",
       "      <td>70</td>\n",
       "      <td>739</td>\n",
       "      <td>4900</td>\n",
       "      <td>546121</td>\n",
       "      <td>51730</td>\n",
       "    </tr>\n",
       "    <tr>\n",
       "      <th>6</th>\n",
       "      <td>7</td>\n",
       "      <td>54</td>\n",
       "      <td>653</td>\n",
       "      <td>2916</td>\n",
       "      <td>426409</td>\n",
       "      <td>35262</td>\n",
       "    </tr>\n",
       "    <tr>\n",
       "      <th>7</th>\n",
       "      <td>8</td>\n",
       "      <td>150</td>\n",
       "      <td>902</td>\n",
       "      <td>22500</td>\n",
       "      <td>813604</td>\n",
       "      <td>135300</td>\n",
       "    </tr>\n",
       "    <tr>\n",
       "      <th>8</th>\n",
       "      <td>9</td>\n",
       "      <td>120</td>\n",
       "      <td>746</td>\n",
       "      <td>14400</td>\n",
       "      <td>556516</td>\n",
       "      <td>89520</td>\n",
       "    </tr>\n",
       "    <tr>\n",
       "      <th>9</th>\n",
       "      <td>10</td>\n",
       "      <td>110</td>\n",
       "      <td>832</td>\n",
       "      <td>12100</td>\n",
       "      <td>692224</td>\n",
       "      <td>91520</td>\n",
       "    </tr>\n",
       "  </tbody>\n",
       "</table>\n",
       "</div>"
      ],
      "text/plain": [
       "   num    x    y   x_sq    y_sq      xy\n",
       "0    1   35  401   1225  160801   14035\n",
       "1    2   45  574   2025  329476   25830\n",
       "2    3  190  874  36100  763876  166060\n",
       "3    4  200  919  40000  844561  183800\n",
       "4    5   40  459   1600  210681   18360\n",
       "5    6   70  739   4900  546121   51730\n",
       "6    7   54  653   2916  426409   35262\n",
       "7    8  150  902  22500  813604  135300\n",
       "8    9  120  746  14400  556516   89520\n",
       "9   10  110  832  12100  692224   91520"
      ]
     },
     "execution_count": 14,
     "metadata": {},
     "output_type": "execute_result"
    }
   ],
   "source": [
    "df"
   ]
  },
  {
   "cell_type": "code",
   "execution_count": 15,
   "metadata": {},
   "outputs": [],
   "source": [
    "d_sum = {'num': np.sum(df.num ),\n",
    "        'x' : np.sum(df.x),\n",
    "        'y' : np.sum(df.y),\n",
    "        'x_sq': np.sum(df.x_sq) ,\n",
    "        'y_sq' :np.sum(df.y_sq) ,\n",
    "        'xy': np.sum(df.xy)\n",
    "        }"
   ]
  },
  {
   "cell_type": "code",
   "execution_count": 16,
   "metadata": {},
   "outputs": [],
   "source": [
    "df_sum = pd.DataFrame(d_sum, index=np.arange(5))"
   ]
  },
  {
   "cell_type": "code",
   "execution_count": 17,
   "metadata": {},
   "outputs": [
    {
     "data": {
      "text/plain": [
       "{'num': 55,\n",
       " 'x': 1014,\n",
       " 'y': 7099,\n",
       " 'x_sq': 137766,\n",
       " 'y_sq': 5344269,\n",
       " 'xy': 811417}"
      ]
     },
     "execution_count": 17,
     "metadata": {},
     "output_type": "execute_result"
    }
   ],
   "source": [
    "d_sum"
   ]
  },
  {
   "cell_type": "markdown",
   "metadata": {},
   "source": [
    "Подставим полученные данные в формулу наименьших квадратов"
   ]
  },
  {
   "cell_type": "markdown",
   "metadata": {},
   "source": [
    "$$\\begin{cases}\n",
    "55b_0 + 1014b_1 = 7099\\\\\n",
    "1014b_0 + 137766b_1 = 811417\n",
    "\\end{cases}$$"
   ]
  },
  {
   "cell_type": "markdown",
   "metadata": {},
   "source": [
    "Получаем \n",
    "$$\\begin{cases}\n",
    "b_0 = \\frac{25870666}{1091489}\\\\\n",
    "b_1 = \\frac{37429549}{6658934}\n",
    "\\end{cases}$$"
   ]
  },
  {
   "cell_type": "code",
   "execution_count": 18,
   "metadata": {},
   "outputs": [
    {
     "data": {
      "text/plain": [
       "(23.702177484152383, 5.620952092331896)"
      ]
     },
     "execution_count": 18,
     "metadata": {},
     "output_type": "execute_result"
    }
   ],
   "source": [
    "b_0_ms = 25870666/1091489\n",
    "b_1_ms = 37429549/6658934\n",
    "b_0_ms, b_1_ms"
   ]
  },
  {
   "cell_type": "markdown",
   "metadata": {},
   "source": [
    "##### Где то есть ошибка, но я не вижу где "
   ]
  },
  {
   "cell_type": "markdown",
   "metadata": {},
   "source": [
    "### Найдем коэффиценты линейной регрессии методом наименьших квадратов с помощью numpy"
   ]
  },
  {
   "cell_type": "markdown",
   "metadata": {},
   "source": [
    "Перепишем линейное уравнение $y = b_0 + b_1x$ как $y = Ap$ <br>\n",
    "где $A = [[x 1]]$ и $p = [[b_1], [b_0]]$ "
   ]
  },
  {
   "cell_type": "code",
   "execution_count": 19,
   "metadata": {},
   "outputs": [
    {
     "data": {
      "text/plain": [
       "array([[ 35.,   1.],\n",
       "       [ 45.,   1.],\n",
       "       [190.,   1.],\n",
       "       [200.,   1.],\n",
       "       [ 40.,   1.],\n",
       "       [ 70.,   1.],\n",
       "       [ 54.,   1.],\n",
       "       [150.,   1.],\n",
       "       [120.,   1.],\n",
       "       [110.,   1.]])"
      ]
     },
     "execution_count": 19,
     "metadata": {},
     "output_type": "execute_result"
    }
   ],
   "source": [
    "A = np.vstack([x, np.ones(len(x))]).T\n",
    "A"
   ]
  },
  {
   "cell_type": "markdown",
   "metadata": {},
   "source": [
    "Используем lstsq для решения относительно вектора $p$"
   ]
  },
  {
   "cell_type": "code",
   "execution_count": null,
   "metadata": {},
   "outputs": [],
   "source": [
    "m,c = np.linalg.lstsq(A, y)[0]\n",
    "m,c "
   ]
  },
  {
   "cell_type": "code",
   "execution_count": null,
   "metadata": {},
   "outputs": [],
   "source": []
  }
 ],
 "metadata": {
  "kernelspec": {
   "display_name": "Python 3",
   "language": "python",
   "name": "python3"
  },
  "language_info": {
   "codemirror_mode": {
    "name": "ipython",
    "version": 3
   },
   "file_extension": ".py",
   "mimetype": "text/x-python",
   "name": "python",
   "nbconvert_exporter": "python",
   "pygments_lexer": "ipython3",
   "version": "3.8.2"
  }
 },
 "nbformat": 4,
 "nbformat_minor": 4
}
