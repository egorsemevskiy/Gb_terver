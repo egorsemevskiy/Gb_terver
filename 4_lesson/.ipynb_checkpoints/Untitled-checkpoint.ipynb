{
 "cells": [
  {
   "cell_type": "markdown",
   "metadata": {},
   "source": [
    "# Задача 1.\n",
    "\n",
    "О непрерывной равномерно распределённой случайной величине B известно, что её дисперсия равна 0.2. Можно ли найти правую границу величины B и её среднее значение зная, что левая граница равна 0.5? Если да, найдите их.\n"
   ]
  },
  {
   "cell_type": "markdown",
   "metadata": {},
   "source": [
    "Пусть B, будет в диапозоне $B \\in {U}([a;b])$, $a = 0.5$, и $D(B) = 0.2$\n",
    "Тогда "
   ]
  },
  {
   "cell_type": "markdown",
   "metadata": {},
   "source": [
    "$D(B) = \\frac{(b - a)^2}{12}%$"
   ]
  },
  {
   "cell_type": "markdown",
   "metadata": {},
   "source": [
    "$\\frac{(b - 0.5)^2}{12}=0.2 $"
   ]
  },
  {
   "cell_type": "markdown",
   "metadata": {},
   "source": [
    "$b = \\sqrt{2.4} + 0.5 \\approx 2.049$"
   ]
  },
  {
   "cell_type": "markdown",
   "metadata": {},
   "source": [
    "$M(B) = \\frac{a+b}{2}$"
   ]
  },
  {
   "cell_type": "markdown",
   "metadata": {},
   "source": [
    "$M(B) = \\frac{\\sqrt{2.4} + 1}{2}\\approx 1.2746$"
   ]
  },
  {
   "cell_type": "markdown",
   "metadata": {},
   "source": [
    "## Ответ:\n",
    "\n",
    "Правая граница примерно 2.049 <br>\n",
    "Мат.ожидание примерно 1.275."
   ]
  },
  {
   "cell_type": "markdown",
   "metadata": {},
   "source": [
    "# Задача 2.\n",
    "\n",
    "Коробки с шоколадом упаковываются автоматически. Их средняя масса равна 1.06 кг. Известно, что 5% коробок имеют массу, меньшую 1 кг. Найдите: а) среднее квадратическое отклонение массы коробки, б) процент коробок, имеющих массу больше 1.1 кг.\n",
    "\n",
    "Подсказка. Найдите такое значение scale, для которого значение cdf(x=1, loc=1.06, scale=scale) близко к 0.05. Точности 0.0001 будет достаточно.\n"
   ]
  },
  {
   "cell_type": "markdown",
   "metadata": {},
   "source": [
    "Предположим, что $x \\in N(\\mu = 1.06, \\sigma)$"
   ]
  },
  {
   "cell_type": "markdown",
   "metadata": {},
   "source": [
    "Мы знаем, что если величина нормально распределена, то 5% будет примерно означать расстояние в $2 \\sigma $"
   ]
  },
  {
   "cell_type": "code",
   "execution_count": 2,
   "metadata": {},
   "outputs": [
    {
     "data": {
      "text/plain": [
       "0.03640000000002777"
      ]
     },
     "execution_count": 2,
     "metadata": {},
     "output_type": "execute_result"
    }
   ],
   "source": [
    "from scipy.stats import norm\n",
    "scale=0.4\n",
    "while norm.ppf(0.05, loc=1.06, scale=scale) <= 1:\n",
    "    scale -= .0001\n",
    "scale"
   ]
  },
  {
   "cell_type": "markdown",
   "metadata": {},
   "source": [
    "Считаем процент коробок с массой более 1.1 кг:  $P(x > 1.1) = 1 - P(x <= 1.1)$"
   ]
  },
  {
   "cell_type": "code",
   "execution_count": 5,
   "metadata": {},
   "outputs": [
    {
     "data": {
      "text/plain": [
       "0.1359056036443107"
      ]
     },
     "execution_count": 5,
     "metadata": {},
     "output_type": "execute_result"
    }
   ],
   "source": [
    "1 - norm.cdf(1.1, loc=1.06, scale=0.0364)"
   ]
  },
  {
   "cell_type": "markdown",
   "metadata": {},
   "source": [
    "коробок с массой более 1.1 кг примерно $\\approx 13.59\\%$"
   ]
  },
  {
   "cell_type": "markdown",
   "metadata": {},
   "source": [
    "Ответ:\n",
    "\n",
    "а) среднее квадратическое отклонение массы коробки ≈0.0364\n",
    "\n",
    "б) ≈13.59% коробок конфет имеют массу более 1.1 кг"
   ]
  },
  {
   "cell_type": "markdown",
   "metadata": {},
   "source": [
    "# Задача 3\n",
    "\n",
    "Коробка содержит 30 конфет. Известно, что масса каждой конфеты распределена равномерно в промежутке от 12 до 14 граммов. Используя центральную предельную теорему, найти вероятность, что масса всей коробки будет: а) меньше 390 граммов, б) больше 395 граммов, в) от 380 до 400 граммов.\n",
    "\n",
    "Массой самой коробки можно пренебречь"
   ]
  },
  {
   "cell_type": "markdown",
   "metadata": {},
   "source": [
    "Масса коробки - случайная независимая величина\n",
    "\n",
    "Получаем средней весь коробки "
   ]
  },
  {
   "cell_type": "markdown",
   "metadata": {},
   "source": [
    "$\\mu = \\frac{14+12}{2}*30=390$"
   ]
  },
  {
   "cell_type": "markdown",
   "metadata": {},
   "source": [
    "и среднееквадратичное отколение $\\sigma$"
   ]
  },
  {
   "cell_type": "markdown",
   "metadata": {},
   "source": [
    "$\\sigma= \\sqrt{\\frac{(14-12)^2}{12}*30} \\approx 3.1623$"
   ]
  },
  {
   "cell_type": "markdown",
   "metadata": {},
   "source": [
    "а) меньше 390 граммов"
   ]
  },
  {
   "cell_type": "markdown",
   "metadata": {},
   "source": [
    "$P(x<0.390)$"
   ]
  },
  {
   "cell_type": "code",
   "execution_count": 9,
   "metadata": {},
   "outputs": [
    {
     "data": {
      "text/plain": [
       "0.5"
      ]
     },
     "execution_count": 9,
     "metadata": {},
     "output_type": "execute_result"
    }
   ],
   "source": [
    "norm.cdf(390, loc=390, scale=3.1623)"
   ]
  },
  {
   "cell_type": "markdown",
   "metadata": {},
   "source": [
    "Получаем, что вес коробки, который будет меньше мат ожидания будет в 50% случаев. "
   ]
  },
  {
   "cell_type": "markdown",
   "metadata": {},
   "source": [
    " б) больше 395 граммов,"
   ]
  },
  {
   "cell_type": "markdown",
   "metadata": {},
   "source": [
    "$P(x>0.395) = 1 - P(x<0.395)$"
   ]
  },
  {
   "cell_type": "code",
   "execution_count": 12,
   "metadata": {},
   "outputs": [
    {
     "data": {
      "text/plain": [
       "0.05692442571441714"
      ]
     },
     "execution_count": 12,
     "metadata": {},
     "output_type": "execute_result"
    }
   ],
   "source": [
    "1 - norm.cdf(395, loc=390, scale=3.1623)"
   ]
  },
  {
   "cell_type": "markdown",
   "metadata": {},
   "source": [
    "То есть вес более 395 граммов, будет примерно в 5,5% случаев"
   ]
  },
  {
   "cell_type": "markdown",
   "metadata": {},
   "source": [
    "в) от 380 до 400 граммов."
   ]
  },
  {
   "cell_type": "markdown",
   "metadata": {},
   "source": [
    "$P(0.380 \\leq x \\leq 0.400) = P(x \\leq 0.400) - P(x \\leq 0.380)$"
   ]
  },
  {
   "cell_type": "code",
   "execution_count": 14,
   "metadata": {},
   "outputs": [
    {
     "data": {
      "text/plain": [
       "0.9984344776373482"
      ]
     },
     "execution_count": 14,
     "metadata": {},
     "output_type": "execute_result"
    }
   ],
   "source": [
    "norm.cdf(400, loc=390, scale=3.1623) - norm.cdf(380, loc=390, scale=3.1623)"
   ]
  },
  {
   "cell_type": "markdown",
   "metadata": {},
   "source": [
    "Получаем, что масса коробки будет от 380 до 400 граммов в 99.8% случаев"
   ]
  }
 ],
 "metadata": {
  "kernelspec": {
   "display_name": "Python 3",
   "language": "python",
   "name": "python3"
  },
  "language_info": {
   "codemirror_mode": {
    "name": "ipython",
    "version": 3
   },
   "file_extension": ".py",
   "mimetype": "text/x-python",
   "name": "python",
   "nbconvert_exporter": "python",
   "pygments_lexer": "ipython3",
   "version": "3.7.4"
  }
 },
 "nbformat": 4,
 "nbformat_minor": 2
}
